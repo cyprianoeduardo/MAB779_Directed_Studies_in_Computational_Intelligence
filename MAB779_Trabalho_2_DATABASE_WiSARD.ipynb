{
  "nbformat": 4,
  "nbformat_minor": 0,
  "metadata": {
    "colab": {
      "name": "MAB779_Trabalho_2_DATABASE_WiSARD.ipynb",
      "version": "0.3.2",
      "provenance": [],
      "collapsed_sections": [
        "bhoUgvLukhSp",
        "ohZMt0Son9AC",
        "o9zErfWcoTrH",
        "DS9_T0l4rpjp"
      ],
      "include_colab_link": true
    },
    "kernelspec": {
      "name": "python3",
      "display_name": "Python 3"
    },
    "accelerator": "GPU"
  },
  "cells": [
    {
      "cell_type": "markdown",
      "metadata": {
        "id": "view-in-github",
        "colab_type": "text"
      },
      "source": [
        "<a href=\"https://colab.research.google.com/github/cyprianoeduardo/MAB779_Directed_Studies_in_Computational_Intelligence/blob/master/MAB779_Trabalho_2_DATABASE_WiSARD.ipynb\" target=\"_parent\"><img src=\"https://colab.research.google.com/assets/colab-badge.svg\" alt=\"Open In Colab\"/></a>"
      ]
    },
    {
      "cell_type": "markdown",
      "metadata": {
        "id": "bhoUgvLukhSp",
        "colab_type": "text"
      },
      "source": [
        "# Using WiSARD with DATABASE Database\n",
        "\n",
        "---\n",
        "\n"
      ]
    },
    {
      "cell_type": "markdown",
      "metadata": {
        "id": "ohZMt0Son9AC",
        "colab_type": "text"
      },
      "source": [
        "# Installing and testing WiSARD"
      ]
    },
    {
      "cell_type": "code",
      "metadata": {
        "id": "fYrtRG5vlB81",
        "colab_type": "code",
        "colab": {}
      },
      "source": [
        "#@title Installing WiSARD Package\n",
        "!pip install wisardpkg"
      ],
      "execution_count": 0,
      "outputs": []
    },
    {
      "cell_type": "code",
      "metadata": {
        "id": "EgPXxI_OlFzr",
        "colab_type": "code",
        "colab": {},
        "cellView": "both"
      },
      "source": [
        "#@title Importing and testing WiSARD Package\n",
        "\n",
        "import wisardpkg as wp\n",
        "\n",
        "\n",
        "# Load input data, just zeros and ones  \n",
        "X = [\n",
        "      [1,1,1,0,0,0,0,0],\n",
        "      [1,1,1,1,0,0,0,0],\n",
        "      [0,0,0,0,1,1,1,1],\n",
        "      [0,0,0,0,0,1,1,1]\n",
        "    ]\n",
        "\n",
        "# Load label data, which must be a string array\n",
        "y = [\n",
        "      \"cold\",\n",
        "      \"cold\",\n",
        "      \"hot\",\n",
        "      \"hot\"\n",
        "    ]\n",
        "\n",
        "addressSize = 3     # Number of addressing bits in the ram\n",
        "\n",
        "ignoreZero  = False # Optional; Causes the rams to ignore the address 0\n",
        "\n",
        "# False by default for performance reasons,\n",
        "# when True, WiSARD prints the progress of train() and classify()        \n",
        "verbose = True\n",
        "\n",
        "# Invokes WiSARD instance\n",
        "wsd = wp.Wisard(addressSize, ignoreZero=ignoreZero, verbose=verbose)\n",
        "\n",
        "# Train using the input data\n",
        "wsd.train(X,y)\n",
        "\n",
        "# Classify some data\n",
        "out = wsd.classify(X)\n",
        "\n",
        "# The output of classify is a string list in the same sequence as the input\n",
        "for i,d in enumerate(X):\n",
        "    print(out[i],d)\n",
        "\n",
        "print(\"\\n\")"
      ],
      "execution_count": 0,
      "outputs": []
    },
    {
      "cell_type": "markdown",
      "metadata": {
        "id": "o9zErfWcoTrH",
        "colab_type": "text"
      },
      "source": [
        "# Importing DATABASE Database"
      ]
    },
    {
      "cell_type": "code",
      "metadata": {
        "id": "75chjevKvIdH",
        "colab_type": "code",
        "colab": {}
      },
      "source": [
        "#@title Importing [DATABASE Database in CSV]() as lists\n",
        "\n",
        "import csv\n",
        "\n",
        "\n",
        "with open(\"/content/sample_data/mnist_train_small.csv\", 'r') as f:\n",
        "    mnist_train = list(csv.reader(f, delimiter=\",\"))\n",
        "\n",
        "with open(\"/content/sample_data/mnist_test.csv\", 'r') as f:\n",
        "    mnist_test = list(csv.reader(f, delimiter=\",\"))"
      ],
      "execution_count": 0,
      "outputs": []
    },
    {
      "cell_type": "code",
      "metadata": {
        "id": "k2uDV-Hv4uuU",
        "colab_type": "code",
        "colab": {}
      },
      "source": [
        "#@title Splitting labels and inputs from train and test data\n",
        "\n",
        "labels_train = []\n",
        "inputs_train = []\n",
        "labels_test = []\n",
        "inputs_test = []\n",
        "for i in range(len(mnist_train)):\n",
        "    labels_train.append(mnist_train[i][0])\n",
        "    inputs_train.append(mnist_train[i][1:])\n",
        "for i in range(len(mnist_test)):\n",
        "    labels_test.append(mnist_test[i][0])\n",
        "    inputs_test.append(mnist_test[i][1:])\n",
        "\n",
        "    \n",
        "def Binarizer(inputs, threshold):\n",
        "    #Convert an array elements in binary elements\n",
        "    for i in range(len(inputs)):\n",
        "        for k in range(len(inputs[i])):\n",
        "            inputs[i][k] = int(inputs[i][k])\n",
        "            if inputs[i][k] < threshold:\n",
        "                inputs[i][k] = 0\n",
        "            else:\n",
        "                inputs[i][k] = 1\n",
        "\n",
        "Binarizer(inputs_train, 100)\n",
        "Binarizer(inputs_test, 100)\n",
        "\n",
        "print(len(mnist_train))\n",
        "print(len(labels_train))\n",
        "print(len(inputs_train))\n",
        "print(len(mnist_test))\n",
        "print(len(labels_test))\n",
        "print(len(inputs_test))"
      ],
      "execution_count": 0,
      "outputs": []
    },
    {
      "cell_type": "code",
      "metadata": {
        "id": "s02EqE5NWMeV",
        "colab_type": "code",
        "colab": {}
      },
      "source": [
        "#@title Understanding and checking created lists\n",
        "\n",
        "print(mnist_train[0:3],\"\\n\")\n",
        "print(labels_train[0:3],\"\\n\")\n",
        "print(inputs_train[0:3],\"\\n\")\n",
        "print(mnist_test[0:3],\"\\n\")\n",
        "print(labels_test[0:3],\"\\n\")\n",
        "print(inputs_test[0:3],\"\\n\")"
      ],
      "execution_count": 0,
      "outputs": []
    },
    {
      "cell_type": "markdown",
      "metadata": {
        "id": "DS9_T0l4rpjp",
        "colab_type": "text"
      },
      "source": [
        "# WiSARD in action"
      ]
    },
    {
      "cell_type": "code",
      "metadata": {
        "id": "X218mZ5mw7A6",
        "colab_type": "code",
        "colab": {}
      },
      "source": [
        "#@title Invoking WiSARD\n",
        "wsdM = wp.Wisard(31, ignoreZero=ignoreZero, verbose=verbose)"
      ],
      "execution_count": 0,
      "outputs": []
    },
    {
      "cell_type": "code",
      "metadata": {
        "id": "JZfZIDeq6lnQ",
        "colab_type": "code",
        "colab": {}
      },
      "source": [
        "#@title Training with training data\n",
        "\n",
        "wsdM.train((inputs_train),(labels_train))"
      ],
      "execution_count": 0,
      "outputs": []
    },
    {
      "cell_type": "code",
      "metadata": {
        "id": "AOV9vBo89UZA",
        "colab_type": "code",
        "colab": {}
      },
      "source": [
        "#@title Classifying with test data\n",
        "\n",
        "out2 = wsdM.classify(inputs_test)"
      ],
      "execution_count": 0,
      "outputs": []
    },
    {
      "cell_type": "code",
      "metadata": {
        "id": "Jvscq1e5fLzg",
        "colab_type": "code",
        "colab": {}
      },
      "source": [
        "#@title Understanding and checking classification\n",
        "\n",
        "print(out2)"
      ],
      "execution_count": 0,
      "outputs": []
    },
    {
      "cell_type": "markdown",
      "metadata": {
        "id": "q0AKnm2ftHYF",
        "colab_type": "text"
      },
      "source": [
        "# Evaluating model"
      ]
    },
    {
      "cell_type": "code",
      "metadata": {
        "id": "KN7nUaTbr-SI",
        "colab_type": "code",
        "colab": {}
      },
      "source": [
        ""
      ],
      "execution_count": 0,
      "outputs": []
    }
  ]
}